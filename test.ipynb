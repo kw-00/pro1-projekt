{
 "cells": [
  {
   "cell_type": "code",
   "execution_count": 12,
   "metadata": {},
   "outputs": [],
   "source": [
    "# imports and data\n",
    "import pandas as pd\n",
    "import numpy as np\n",
    "\n",
    "# Training\n",
    "\n",
    "# Regressors\n",
    "from sklearn.tree import DecisionTreeRegressor\n",
    "\n",
    "# Data manipulation\n",
    "from sklearn.model_selection import train_test_split\n",
    "from sklearn.model_selection import GridSearchCV\n",
    "\n",
    "# Metrics\n",
    "from sklearn.metrics import mean_squared_error\n",
    "\n",
    "# Other\n",
    "import time"
   ]
  },
  {
   "cell_type": "code",
   "execution_count": 8,
   "metadata": {},
   "outputs": [
    {
     "name": "stdout",
     "output_type": "stream",
     "text": [
      "128\n",
      "0        int64\n",
      "1       object\n",
      "2       object\n",
      "3       object\n",
      "4        int64\n",
      "        ...   \n",
      "123     object\n",
      "124     object\n",
      "125    float64\n",
      "126     object\n",
      "127    float64\n",
      "Length: 128, dtype: object\n",
      "102\n"
     ]
    }
   ],
   "source": [
    "data = pd.read_csv(\"communities.data\", header=None)\n",
    "print(data.shape[1])\n",
    "print(data.dtypes)\n",
    "\n",
    "print(data.select_dtypes(include=[\"number\"]).shape[1])"
   ]
  },
  {
   "cell_type": "code",
   "execution_count": 13,
   "metadata": {},
   "outputs": [],
   "source": [
    "# Convert values that represent na to np.nan\n",
    "\n",
    "# Params\n",
    "values_counting_as_na = [\"?\"]\n",
    "\n",
    "for v in values_counting_as_na:\n",
    "    data.replace(v, np.nan, inplace=True)"
   ]
  },
  {
   "cell_type": "code",
   "execution_count": 14,
   "metadata": {},
   "outputs": [],
   "source": [
    "# Replace na values and drop non-numerical columns\n",
    "for column_name in data.dropna().select_dtypes(include=[\"number\"]):\n",
    "    data[column_name] = data[column_name].fillna(data.dropna()[column_name].mean())\n",
    "\n",
    "for column_name in data.dropna().select_dtypes(exclude=[\"number\"]):\n",
    "    data.drop(labels=[column_name], axis=\"columns\", inplace=True)"
   ]
  },
  {
   "cell_type": "code",
   "execution_count": 15,
   "metadata": {},
   "outputs": [],
   "source": [
    "# Train/test split\n",
    "\n",
    "X_train, X_test, y_train, y_test = train_test_split(data.drop(data.columns[-1], axis=\"columns\"), data[data.columns[-1]])"
   ]
  },
  {
   "cell_type": "code",
   "execution_count": 16,
   "metadata": {},
   "outputs": [
    {
     "name": "stdout",
     "output_type": "stream",
     "text": [
      "Fitting took 0 seconds\n"
     ]
    }
   ],
   "source": [
    "\n",
    "\n",
    "\n",
    "tree_classifier = DecisionTreeRegressor(max_depth=1)\n",
    "\n",
    "start = time.time()\n",
    "tree_classifier.fit(X_train, y_train)\n",
    "end = time.time()\n",
    "print(f\"Fitting took {round(end - start)} seconds\")\n",
    "\n",
    "\n"
   ]
  },
  {
   "cell_type": "code",
   "execution_count": 17,
   "metadata": {},
   "outputs": [
    {
     "name": "stdout",
     "output_type": "stream",
     "text": [
      "MSE: 0.03287279537929719\n"
     ]
    }
   ],
   "source": [
    "mse = mean_squared_error(y_test, tree_classifier.predict(X_test))\n",
    "print(f\"MSE: {mse}\")"
   ]
  }
 ],
 "metadata": {
  "kernelspec": {
   "display_name": ".venv",
   "language": "python",
   "name": "python3"
  },
  "language_info": {
   "codemirror_mode": {
    "name": "ipython",
    "version": 3
   },
   "file_extension": ".py",
   "mimetype": "text/x-python",
   "name": "python",
   "nbconvert_exporter": "python",
   "pygments_lexer": "ipython3",
   "version": "3.12.3"
  }
 },
 "nbformat": 4,
 "nbformat_minor": 2
}
