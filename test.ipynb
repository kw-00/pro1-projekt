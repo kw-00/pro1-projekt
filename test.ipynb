{
 "cells": [
  {
   "cell_type": "code",
   "execution_count": 51,
   "metadata": {},
   "outputs": [],
   "source": [
    "# imports and data\n",
    "import pandas as pd\n",
    "import numpy as np\n",
    "\n",
    "import utils\n",
    "\n",
    "# Training\n",
    "\n",
    "# Regressors\n",
    "from sklearn.linear_model import LinearRegression, LassoCV, RidgeCV\n",
    "from sklearn.tree import DecisionTreeRegressor\n",
    "from sklearn.ensemble import RandomForestRegressor, ExtraTreesRegressor, BaggingRegressor, GradientBoostingRegressor\n",
    "from sklearn.neural_network import MLPRegressor\n",
    "\n",
    "# Data manipulation\n",
    "from sklearn.model_selection import StratifiedKFold, KFold\n",
    "from sklearn.model_selection import GridSearchCV\n",
    "\n",
    "# Metrics\n",
    "from sklearn.metrics import mean_squared_error\n",
    "\n",
    "# Other\n",
    "import time"
   ]
  },
  {
   "cell_type": "code",
   "execution_count": 32,
   "metadata": {},
   "outputs": [
    {
     "name": "stdout",
     "output_type": "stream",
     "text": [
      "128\n",
      "0        int64\n",
      "1       object\n",
      "2       object\n",
      "3       object\n",
      "4        int64\n",
      "        ...   \n",
      "123     object\n",
      "124     object\n",
      "125    float64\n",
      "126     object\n",
      "127    float64\n",
      "Length: 128, dtype: object\n",
      "102\n"
     ]
    }
   ],
   "source": [
    "data = pd.read_csv(\"communities.data\", header=None)\n",
    "print(data.shape[1])\n",
    "print(data.dtypes)\n",
    "\n",
    "print(data.select_dtypes(include=[\"number\"]).shape[1])"
   ]
  },
  {
   "cell_type": "code",
   "execution_count": 33,
   "metadata": {},
   "outputs": [],
   "source": [
    "# Replace na values and drop non-numerical columns\n",
    "utils.remove_and_fill_non_numerical(data, [\"?\"])"
   ]
  },
  {
   "cell_type": "code",
   "execution_count": 52,
   "metadata": {},
   "outputs": [],
   "source": [
    "# Train/test split\n",
    "\n",
    "X = data.drop(data.columns[-1], axis=\"columns\")\n",
    "y = data[data.columns[-1]]\n",
    "cv = KFold()"
   ]
  },
  {
   "cell_type": "code",
   "execution_count": 55,
   "metadata": {},
   "outputs": [
    {
     "name": "stdout",
     "output_type": "stream",
     "text": [
      "-0.01886820748823999\n",
      "-0.01869747480094494\n",
      "-0.018448393211715135\n",
      "-0.03719446631654513\n",
      "-0.018839102331141923\n",
      "-0.018181233268145237\n",
      "-0.020979168586909708\n"
     ]
    }
   ],
   "source": [
    "# Preparing candidate estimators and parameter grids\n",
    "\n",
    "# Regressors that don't use search\n",
    "linear_regression = LinearRegression()\n",
    "lasso = LassoCV()\n",
    "ridge = RidgeCV()\n",
    "\n",
    "# Regressors using search\n",
    "decision_tree_regressor = DecisionTreeRegressor()\n",
    "random_forest_regressor = RandomForestRegressor()\n",
    "extra_trees_regressor = ExtraTreesRegressor()\n",
    "bagging_regressor = BaggingRegressor()\n",
    "gradient_boosting_regressor = GradientBoostingRegressor()\n",
    "mlp_regressor = MLPRegressor()\n",
    "\n",
    "scoring = \"neg_mean_squared_error\"\n",
    "\n",
    "\n",
    "decision_tree_regressor_grid = {\n",
    "    \n",
    "}\n",
    "\n",
    "random_forest_regressor_grid = {\n",
    "\n",
    "}\n",
    "\n",
    "extra_trees_regressor_grid = {\n",
    "\n",
    "}\n",
    "\n",
    "mlp_regressor_grid = {\n",
    "\n",
    "}\n",
    "\n",
    "\n",
    "linear_regression_search = GridSearchCV(estimator=linear_regression, param_grid={}, cv=cv, scoring=scoring)\n",
    "lasso_search = GridSearchCV(estimator=lasso, param_grid={}, cv=cv, scoring=scoring)\n",
    "ridge_search = GridSearchCV(estimator=ridge, param_grid={}, cv=cv, scoring=scoring)\n",
    "decision_tree_regressor_search = GridSearchCV(estimator=decision_tree_regressor, param_grid=decision_tree_regressor_grid, cv=cv, scoring=scoring)\n",
    "random_forest_regressor_search = GridSearchCV(estimator=random_forest_regressor, param_grid=random_forest_regressor_grid, cv=cv, scoring=scoring)\n",
    "extra_trees_regressor_search = GridSearchCV(estimator=extra_trees_regressor, param_grid=extra_trees_regressor_grid, cv=cv, scoring=scoring)\n",
    "mlp_regressor_search = GridSearchCV(estimator=mlp_regressor, param_grid=mlp_regressor_grid, cv=cv, scoring=scoring)\n",
    "\n",
    "search_results: dict[str, GridSearchCV] = {\n",
    "    \"linear_regression_search\": linear_regression_search,\n",
    "    \"lasso_search\": lasso_search,\n",
    "    \"ridge_search\": ridge_search,\n",
    "    \"decision_tree_regressor_search\": decision_tree_regressor_search,\n",
    "    \"random_forest_regressor_search\": random_forest_regressor_search,\n",
    "    \"extra_trees_regressor_search\": extra_trees_regressor_search,\n",
    "    \"mlp_regressor_search\": mlp_regressor_search\n",
    "}\n",
    "\n",
    "i = 0\n",
    "for k, v in search_results.items():\n",
    "    v.fit(X=X, y=y)\n",
    "    print(v.best_score_)\n",
    "\n",
    "\n",
    "\n"
   ]
  }
 ],
 "metadata": {
  "kernelspec": {
   "display_name": ".venv",
   "language": "python",
   "name": "python3"
  },
  "language_info": {
   "codemirror_mode": {
    "name": "ipython",
    "version": 3
   },
   "file_extension": ".py",
   "mimetype": "text/x-python",
   "name": "python",
   "nbconvert_exporter": "python",
   "pygments_lexer": "ipython3",
   "version": "3.12.3"
  }
 },
 "nbformat": 4,
 "nbformat_minor": 2
}
