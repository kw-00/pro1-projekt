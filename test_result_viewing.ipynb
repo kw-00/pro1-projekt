{
 "cells": [
  {
   "cell_type": "code",
   "execution_count": 34,
   "metadata": {},
   "outputs": [
    {
     "name": "stdout",
     "output_type": "stream",
     "text": [
      "explained_variance=0.8\n",
      "linear_regression_search best score:               0.5415018894851392\n",
      "lasso_search best score:                           0.5415014667001504\n",
      "ridge_search best score:                           0.5415033770462055\n",
      "elastic_net best score:                            0.5415017711860655\n",
      "\n",
      "\n",
      "explained_variance=0.9\n",
      "linear_regression_search best score:               0.3602942186853867\n",
      "lasso_search best score:                           0.3602775537432627\n",
      "ridge_search best score:                           0.36027020709358526\n",
      "elastic_net best score:                            0.3602741082902779\n",
      "\n",
      "\n",
      "explained_variance=0.95\n",
      "linear_regression_search best score:               0.35798614984074145\n",
      "lasso_search best score:                           0.3577264042884721\n",
      "ridge_search best score:                           0.3575291688542445\n",
      "elastic_net best score:                            0.35773515048572957\n",
      "\n",
      "\n",
      "explained_variance=0.98\n",
      "linear_regression_search best score:               0.3583809992375124\n",
      "lasso_search best score:                           0.3549487030455081\n",
      "ridge_search best score:                           0.35568371120261666\n",
      "elastic_net best score:                            0.35499581270073804\n",
      "\n",
      "\n",
      "explained_variance=0.9999\n",
      "linear_regression_search best score:               0.350994446005975\n",
      "lasso_search best score:                           0.3448454267625302\n",
      "ridge_search best score:                           0.3449447757064391\n",
      "elastic_net best score:                            0.34499987013250055\n",
      "\n",
      "\n",
      "explained_variance=None\n",
      "linear_regression_search best score:               3.396943407089847\n",
      "lasso_search best score:                           0.34438038407403493\n",
      "ridge_search best score:                           0.3450474226750799\n",
      "elastic_net best score:                            0.34428369973277684\n",
      "\n",
      "\n"
     ]
    }
   ],
   "source": [
    "# Import data\n",
    "import pandas as pd\n",
    "import model_testing\n",
    "import data_processing_utils\n",
    "\n",
    "data = pd.read_csv(\"communities.data\", header=None)\n",
    "\n",
    "# Drop categorical columns\n",
    "data.drop([0, 1, 2, 3], axis=\"columns\", inplace=True)\n",
    "\n",
    "# Replace na values and drop non-numerical columns\n",
    "data_processing_utils.remove_and_fill_non_numerical(data)\n",
    "\n",
    "tests = {}\n",
    "for explained_variance in [0.8, 0.9, 0.95, 0.98, 0.9999, None]:\n",
    "    print(f\"explained_variance={explained_variance}\")\n",
    "    search_results = model_testing.test(data, explained_variance=explained_variance)\n",
    "    tests[explained_variance] = search_results\n",
    "    print(\"\\n\")\n"
   ]
  },
  {
   "cell_type": "code",
   "execution_count": 35,
   "metadata": {},
   "outputs": [
    {
     "name": "stdout",
     "output_type": "stream",
     "text": [
      "{0.8: {'linear_regression_search': GridSearchCV(cv=KFold(n_splits=5, random_state=None, shuffle=False),\n",
      "             estimator=LinearRegression(), n_jobs=-1, param_grid={},\n",
      "             scoring='neg_mean_squared_error'), 'lasso_search': GridSearchCV(cv=KFold(n_splits=5, random_state=None, shuffle=False),\n",
      "             estimator=LassoCV(), n_jobs=-1, param_grid={'max_iter': [2000]},\n",
      "             scoring='neg_mean_squared_error'), 'ridge_search': GridSearchCV(cv=KFold(n_splits=5, random_state=None, shuffle=False),\n",
      "             estimator=RidgeCV(), n_jobs=-1, param_grid={},\n",
      "             scoring='neg_mean_squared_error'), 'elastic_net': GridSearchCV(cv=KFold(n_splits=5, random_state=None, shuffle=False),\n",
      "             estimator=ElasticNetCV(), n_jobs=-1,\n",
      "             param_grid={'max_iter': [2000]}, scoring='neg_mean_squared_error')}, 0.9: {'linear_regression_search': GridSearchCV(cv=KFold(n_splits=5, random_state=None, shuffle=False),\n",
      "             estimator=LinearRegression(), n_jobs=-1, param_grid={},\n",
      "             scoring='neg_mean_squared_error'), 'lasso_search': GridSearchCV(cv=KFold(n_splits=5, random_state=None, shuffle=False),\n",
      "             estimator=LassoCV(), n_jobs=-1, param_grid={'max_iter': [2000]},\n",
      "             scoring='neg_mean_squared_error'), 'ridge_search': GridSearchCV(cv=KFold(n_splits=5, random_state=None, shuffle=False),\n",
      "             estimator=RidgeCV(), n_jobs=-1, param_grid={},\n",
      "             scoring='neg_mean_squared_error'), 'elastic_net': GridSearchCV(cv=KFold(n_splits=5, random_state=None, shuffle=False),\n",
      "             estimator=ElasticNetCV(), n_jobs=-1,\n",
      "             param_grid={'max_iter': [2000]}, scoring='neg_mean_squared_error')}, 0.95: {'linear_regression_search': GridSearchCV(cv=KFold(n_splits=5, random_state=None, shuffle=False),\n",
      "             estimator=LinearRegression(), n_jobs=-1, param_grid={},\n",
      "             scoring='neg_mean_squared_error'), 'lasso_search': GridSearchCV(cv=KFold(n_splits=5, random_state=None, shuffle=False),\n",
      "             estimator=LassoCV(), n_jobs=-1, param_grid={'max_iter': [2000]},\n",
      "             scoring='neg_mean_squared_error'), 'ridge_search': GridSearchCV(cv=KFold(n_splits=5, random_state=None, shuffle=False),\n",
      "             estimator=RidgeCV(), n_jobs=-1, param_grid={},\n",
      "             scoring='neg_mean_squared_error'), 'elastic_net': GridSearchCV(cv=KFold(n_splits=5, random_state=None, shuffle=False),\n",
      "             estimator=ElasticNetCV(), n_jobs=-1,\n",
      "             param_grid={'max_iter': [2000]}, scoring='neg_mean_squared_error')}, 0.98: {'linear_regression_search': GridSearchCV(cv=KFold(n_splits=5, random_state=None, shuffle=False),\n",
      "             estimator=LinearRegression(), n_jobs=-1, param_grid={},\n",
      "             scoring='neg_mean_squared_error'), 'lasso_search': GridSearchCV(cv=KFold(n_splits=5, random_state=None, shuffle=False),\n",
      "             estimator=LassoCV(), n_jobs=-1, param_grid={'max_iter': [2000]},\n",
      "             scoring='neg_mean_squared_error'), 'ridge_search': GridSearchCV(cv=KFold(n_splits=5, random_state=None, shuffle=False),\n",
      "             estimator=RidgeCV(), n_jobs=-1, param_grid={},\n",
      "             scoring='neg_mean_squared_error'), 'elastic_net': GridSearchCV(cv=KFold(n_splits=5, random_state=None, shuffle=False),\n",
      "             estimator=ElasticNetCV(), n_jobs=-1,\n",
      "             param_grid={'max_iter': [2000]}, scoring='neg_mean_squared_error')}, 0.9999: {'linear_regression_search': GridSearchCV(cv=KFold(n_splits=5, random_state=None, shuffle=False),\n",
      "             estimator=LinearRegression(), n_jobs=-1, param_grid={},\n",
      "             scoring='neg_mean_squared_error'), 'lasso_search': GridSearchCV(cv=KFold(n_splits=5, random_state=None, shuffle=False),\n",
      "             estimator=LassoCV(), n_jobs=-1, param_grid={'max_iter': [2000]},\n",
      "             scoring='neg_mean_squared_error'), 'ridge_search': GridSearchCV(cv=KFold(n_splits=5, random_state=None, shuffle=False),\n",
      "             estimator=RidgeCV(), n_jobs=-1, param_grid={},\n",
      "             scoring='neg_mean_squared_error'), 'elastic_net': GridSearchCV(cv=KFold(n_splits=5, random_state=None, shuffle=False),\n",
      "             estimator=ElasticNetCV(), n_jobs=-1,\n",
      "             param_grid={'max_iter': [2000]}, scoring='neg_mean_squared_error')}, None: {'linear_regression_search': GridSearchCV(cv=KFold(n_splits=5, random_state=None, shuffle=False),\n",
      "             estimator=LinearRegression(), n_jobs=-1, param_grid={},\n",
      "             scoring='neg_mean_squared_error'), 'lasso_search': GridSearchCV(cv=KFold(n_splits=5, random_state=None, shuffle=False),\n",
      "             estimator=LassoCV(), n_jobs=-1, param_grid={'max_iter': [2000]},\n",
      "             scoring='neg_mean_squared_error'), 'ridge_search': GridSearchCV(cv=KFold(n_splits=5, random_state=None, shuffle=False),\n",
      "             estimator=RidgeCV(), n_jobs=-1, param_grid={},\n",
      "             scoring='neg_mean_squared_error'), 'elastic_net': GridSearchCV(cv=KFold(n_splits=5, random_state=None, shuffle=False),\n",
      "             estimator=ElasticNetCV(), n_jobs=-1,\n",
      "             param_grid={'max_iter': [2000]}, scoring='neg_mean_squared_error')}}\n"
     ]
    }
   ],
   "source": [
    "print(tests)"
   ]
  },
  {
   "cell_type": "code",
   "execution_count": 33,
   "metadata": {},
   "outputs": [
    {
     "name": "stdout",
     "output_type": "stream",
     "text": [
      "explained_variance=1\n",
      "linear_regression_search best score:               0.18439276120520756\n",
      "lasso_search best score:                           0.018693643759794792\n",
      "ridge_search best score:                           0.01872985192541228\n",
      "linear_regression_search best:                     3.396943407089847\n",
      "lasso_search best:                                 0.34438038407403493\n",
      "ridge_search best:                                 0.3450474226750799\n"
     ]
    }
   ],
   "source": [
    "import model_testing\n",
    "\n",
    "print(f\"explained_variance={1}\")\n",
    "additional_results = model_testing.test(data=data)\n",
    "for k, v in additional_results.items():\n",
    "    print(f\"{k} best: \".ljust(50), -v.best_score_ / variance)"
   ]
  }
 ],
 "metadata": {
  "kernelspec": {
   "display_name": ".venv",
   "language": "python",
   "name": "python3"
  },
  "language_info": {
   "codemirror_mode": {
    "name": "ipython",
    "version": 3
   },
   "file_extension": ".py",
   "mimetype": "text/x-python",
   "name": "python",
   "nbconvert_exporter": "python",
   "pygments_lexer": "ipython3",
   "version": "3.12.3"
  }
 },
 "nbformat": 4,
 "nbformat_minor": 2
}
