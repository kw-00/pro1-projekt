{
 "cells": [
  {
   "cell_type": "code",
   "execution_count": 11,
   "metadata": {},
   "outputs": [],
   "source": [
    "# Imports\n",
    "import pandas as pd\n",
    "import numpy as np\n",
    "import matplotlib.pyplot as plt\n",
    "\n",
    "import pickle\n",
    "import data_processing_utils\n",
    "\n",
    "\n",
    "from sklearn.decomposition import PCA"
   ]
  },
  {
   "cell_type": "code",
   "execution_count": 17,
   "metadata": {},
   "outputs": [
    {
     "name": "stdout",
     "output_type": "stream",
     "text": [
      "Dataset shape: (1994, 128)\n",
      "Data shape after column removal and filling: (1994, 124)\n"
     ]
    }
   ],
   "source": [
    "# Import data\n",
    "\n",
    "data = pd.read_csv(\"communities.data\", header=None)\n",
    "\n",
    "# Initial data shape\n",
    "print(f\"Dataset shape: {data.shape}\")\n",
    "\n",
    "# Drop categorical columns\n",
    "data.drop([0, 1, 2, 3], axis=\"columns\", inplace=True)\n",
    "\n",
    "# Replace na values and drop non-numerical columns\n",
    "data_processing_utils.remove_and_fill_non_numerical(data)\n",
    "\n",
    "X = data.drop(data.columns[-1], axis=\"columns\")\n",
    "y = data[data.columns[-1]]\n",
    "\n",
    "print(f\"Data shape after column removal and filling: {data.shape}\")"
   ]
  },
  {
   "cell_type": "code",
   "execution_count": 14,
   "metadata": {},
   "outputs": [
    {
     "data": {
      "image/png": "[encoded data removed]",
      "text/plain": [
       "<Figure size 640x480 with 1 Axes>"
      ]
     },
     "metadata": {},
     "output_type": "display_data"
    }
   ],
   "source": [
    "# Histogram of y values\n",
    "plt.hist(y, bins=30, color='skyblue', edgecolor='black')\n",
    "\n",
    "plt.xlabel('Violent crimes per population')\n",
    "plt.ylabel('Frequency')\n",
    "plt.title('Distribution of y values')\n",
    "\n",
    "plt.show()"
   ]
  },
  {
   "cell_type": "code",
   "execution_count": 16,
   "metadata": {},
   "outputs": [
    {
     "name": "stdout",
     "output_type": "stream",
     "text": [
      "[0.66578862 0.75210905 0.81286575 0.83952443 0.86247636 0.87742022\n",
      " 0.89040743 0.9009538  0.90996938 0.91712232 0.92329343 0.92790734\n",
      " 0.93239731 0.93672622 0.94059688 0.94423136 0.94740342 0.95008321\n",
      " 0.95249697 0.95477829 0.95697184 0.95906167 0.96109658 0.96305421\n",
      " 0.96493235 0.96673679 0.96833761 0.96986672 0.97128588 0.97268771\n",
      " 0.97396324 0.97523219 0.97642218 0.97757126 0.97867808 0.97974071\n",
      " 0.98076488 0.9817073  0.98257164 0.98341986 0.98425507 0.98501531\n",
      " 0.98575236 0.9864584  0.98714196 0.98780285 0.98844507 0.98903651\n",
      " 0.9896272  0.99016973 0.99067136 0.99116614 0.99163187 0.99208741\n",
      " 0.99251406 0.9928938  0.99325611 0.99361381 0.99395062 0.99426218\n",
      " 0.99457155 0.9948684  0.99515456 0.99543044 0.9956858  0.99592846\n",
      " 0.99616038 0.99638212 0.99659046 0.99679049 0.99698057 0.99715844\n",
      " 0.99733472 0.99749256 0.99764636 0.99778794 0.99792585 0.99805849\n",
      " 0.99818117 0.99829851 0.99841427 0.99852704 0.99863247 0.99872949\n",
      " 0.99882064 0.99890737 0.99899211 0.99907574 0.99915441 0.9992248\n",
      " 0.99929062 0.99935376 0.99941137 0.99946773 0.99952174 0.99957139\n",
      " 0.99961864 0.99966245 0.99970205 0.99973714 0.99977035 0.99979838\n",
      " 0.99982135 0.99984242 0.99986247 0.99988162 0.99989842 0.9999118\n",
      " 0.99992445 0.99993661 0.99994837 0.9999592  0.99996763 0.99997385\n",
      " 0.9999796  0.99998496 0.99998967 0.99999314 0.99999544 0.99999766\n",
      " 0.99999932 1.         1.        ]\n"
     ]
    },
    {
     "data": {
      "text/plain": [
       "<BarContainer object of 123 artists>"
      ]
     },
     "execution_count": 16,
     "metadata": {},
     "output_type": "execute_result"
    },
    {
     "data": {
      "image/png": "[encoded data removed]",
      "text/plain": [
       "<Figure size 640x480 with 1 Axes>"
      ]
     },
     "metadata": {},
     "output_type": "display_data"
    }
   ],
   "source": [
    "# Explained variance\n",
    "pca = PCA()\n",
    "pca.fit(X)\n",
    "explained_variance_cumsum = np.cumsum(pca.explained_variance_ratio_)\n",
    "print(explained_variance_cumsum)\n",
    "\n",
    "# Create a bar plot of the cumulative explained variance\n",
    "plt.bar(range(1, len(explained_variance_cumsum) + 1), explained_variance_cumsum, color='skyblue', width=0.5)"
   ]
  },
  {
   "cell_type": "code",
   "execution_count": 10,
   "metadata": {},
   "outputs": [
    {
     "name": "stdout",
     "output_type": "stream",
     "text": [
      "Standard deviation: 0.05428196443318918\n"
     ]
    }
   ],
   "source": [
    "print(f\"Standard deviation: {y.var()}\")"
   ]
  },
  {
   "cell_type": "code",
   "execution_count": 68,
   "metadata": {},
   "outputs": [
    {
     "name": "stdout",
     "output_type": "stream",
     "text": [
      "mlp_regressor_search best score:                   0.01842530478359673\n",
      "linear_regression_search best score:               0.01886820748823999\n",
      "lasso_search best score:                           0.01869747480094494\n",
      "ridge_search best score:                           0.01844839321171262\n",
      "decision_tree_regressor_search best score:         0.023216762729188486\n",
      "random_forest_regressor_search best score:         0.018276252877797123\n",
      "extra_trees_regressor_search best score:           0.017854473708863623\n",
      "gradient_boosting_regressor_search best score:     0.018337906572774683\n",
      "\n",
      "mlp_regressor_search best params:                  {'activation': 'tanh', 'hidden_layer_sizes': (400, 200, 100, 50, 25), 'max_iter': 50, 'solver': 'adam'}\n",
      "linear_regression_search best params:              {}\n",
      "lasso_search best params:                          {}\n",
      "ridge_search best params:                          {}\n",
      "decision_tree_regressor_search best params:        {'max_depth': 5, 'max_features': 0.5, 'min_samples_leaf': 0.01, 'min_samples_split': 0.01}\n",
      "random_forest_regressor_search best params:        {'max_depth': None, 'max_features': 0.5, 'min_samples_leaf': 1, 'min_samples_split': 2, 'n_estimators': 1000}\n",
      "extra_trees_regressor_search best params:          {'max_depth': None, 'max_features': 0.5, 'min_samples_leaf': 1, 'min_samples_split': 2, 'n_estimators': 500}\n",
      "gradient_boosting_regressor_search best params:    {'learning_rate': 0.05, 'n_estimators': 100}\n",
      "\n",
      "linear_regression_search best score:               0.01886820748823999\n",
      "lasso_search best score:                           0.01869747480094494\n",
      "ridge_search best score:                           0.01844839321171262\n",
      "decision_tree_regressor_search best score:         0.023330911142024627\n",
      "random_forest_regressor_search best score:         0.01825608597847722\n",
      "extra_trees_regressor_search best score:           0.017799589214208895\n",
      "bagging_regressor_search best score:               0.018626268180264232\n",
      "gradient_boosting_regressor_search best score:     0.01834024779600166\n",
      "mlp_regressor_search best score:                   0.01948688374512032\n",
      "linear_regression_search best params:              {}\n",
      "lasso_search best params:                          {}\n",
      "ridge_search best params:                          {}\n",
      "decision_tree_regressor_search best params:        {'max_depth': 5, 'max_features': 0.5, 'min_samples_leaf': 0.01, 'min_samples_split': 2}\n",
      "random_forest_regressor_search best params:        {'max_depth': 15, 'max_features': 0.5, 'min_samples_leaf': 1, 'min_samples_split': 2, 'n_estimators': 500}\n",
      "extra_trees_regressor_search best params:          {'max_depth': None, 'max_features': 0.5, 'min_samples_leaf': 1, 'min_samples_split': 2, 'n_estimators': 500}\n",
      "bagging_regressor_search best params:              {'max_samples': 0.8, 'n_estimators': 500}\n",
      "gradient_boosting_regressor_search best params:    {'learning_rate': 0.05, 'n_estimators': 100}\n",
      "mlp_regressor_search best params:                  {'activation': 'tanh', 'hidden_layer_sizes': (100, 60, 40)}\n"
     ]
    }
   ],
   "source": [
    "# Show search results\n",
    "\n",
    "result_paths = [\"search_results.pickle\", \"search_results_old.pickle\"]\n",
    "\n",
    "for path in result_paths:\n",
    "    with open(path, \"rb\") as file:\n",
    "        results = pickle.load(file)\n",
    "        for k, v in results.items():\n",
    "            print(f\"{k} best score: \".ljust(50), -v.best_score_)\n",
    "\n",
    "        print()\n",
    "        for k, v in results.items():\n",
    "            print(f\"{k} best params: \".ljust(50), v.best_params_)\n",
    "    print()\n",
    "    print()\n"
   ]
  }
 ],
 "metadata": {
  "kernelspec": {
   "display_name": ".venv",
   "language": "python",
   "name": "python3"
  },
  "language_info": {
   "codemirror_mode": {
    "name": "ipython",
    "version": 3
   },
   "file_extension": ".py",
   "mimetype": "text/x-python",
   "name": "python",
   "nbconvert_exporter": "python",
   "pygments_lexer": "ipython3",
   "version": "3.12.3"
  }
 },
 "nbformat": 4,
 "nbformat_minor": 2
}
